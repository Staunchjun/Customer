{
 "cells": [
  {
   "cell_type": "code",
   "execution_count": 1,
   "metadata": {
    "collapsed": true,
    "deletable": true,
    "editable": true
   },
   "outputs": [],
   "source": [
    "import pandas as pd\n",
    "import numpy as np\n",
    "import statsmodels.api as sm\n",
    "import sys\n",
    "import matplotlib.pyplot as plt\n",
    "def delUnname0(df):\n",
    "    df = df.drop('Unnamed: 0',axis=1)\n",
    "    return df\n",
    "def proper_model(data_ts, maxLag):\n",
    "    init_bic = sys.maxint\n",
    "    init_p = 0\n",
    "    init_q = 0\n",
    "    init_properModel = None\n",
    "    for p in np.arange(maxLag):\n",
    "        for q in np.arange(maxLag):\n",
    "            model = sm.tsa.ARMA(data_ts, order=(p, q),freq='D')\n",
    "            try:\n",
    "                results_ARMA = model.fit(disp=-1, method='css')\n",
    "            except:\n",
    "                continue\n",
    "            bic = results_ARMA.bic\n",
    "            if bic < init_bic:\n",
    "                init_p = p\n",
    "                init_q = q\n",
    "                init_properModel = results_ARMA\n",
    "                init_bic = bic\n",
    "    return init_bic, init_p, init_q, init_properModel\n",
    "def test_DF(timeseries):\n",
    "    #Perform Dickey-Fuller test:\n",
    "    print 'Results of Dickey-Fuller Test:'\n",
    "    \n",
    "    a_timeseries = np.array(timeseries)\n",
    "    dim_1_data = []\n",
    "    for x in a_timeseries:\n",
    "        dim_1_data.extend(x)\n",
    "        \n",
    "    dftest = adfuller(dim_1_data, autolag='AIC')\n",
    "    dfoutput = pd.Series(dftest[0:4], index=['Test Statistic','p-value','#Lags Used','Number of Observations Used'])\n",
    "    for key,value in dftest[4].items():\n",
    "        dfoutput['Critical Value (%s)'%key] = value\n",
    "    print dfoutput\n",
    "\n",
    "last2week_data = pd.read_csv('last2week_data.csv')\n",
    "last2week_data['data'] = pd.to_datetime(last2week_data['data'])"
   ]
  },
  {
   "cell_type": "code",
   "execution_count": 2,
   "metadata": {
    "collapsed": false,
    "deletable": true,
    "editable": true
   },
   "outputs": [
    {
     "name": "stderr",
     "output_type": "stream",
     "text": [
      "c:\\python27\\lib\\site-packages\\statsmodels\\base\\model.py:496: ConvergenceWarning: Maximum Likelihood optimization failed to converge. Check mle_retvals\n",
      "  \"Check mle_retvals\", ConvergenceWarning)\n",
      "c:\\python27\\lib\\site-packages\\statsmodels\\regression\\linear_model.py:1127: RuntimeWarning: invalid value encountered in sqrt\n",
      "  return rho, np.sqrt(sigmasq)\n",
      "c:\\python27\\lib\\site-packages\\statsmodels\\base\\model.py:473: HessianInversionWarning: Inverting hessian failed, no bse or cov_params available\n",
      "  'available', HessianInversionWarning)\n",
      "c:\\python27\\lib\\site-packages\\statsmodels\\base\\model.py:496: ConvergenceWarning: Maximum Likelihood optimization failed to converge. Check mle_retvals\n",
      "  \"Check mle_retvals\", ConvergenceWarning)\n",
      "c:\\python27\\lib\\site-packages\\statsmodels\\base\\model.py:496: ConvergenceWarning: Maximum Likelihood optimization failed to converge. Check mle_retvals\n",
      "  \"Check mle_retvals\", ConvergenceWarning)\n",
      "c:\\python27\\lib\\site-packages\\statsmodels\\base\\model.py:496: ConvergenceWarning: Maximum Likelihood optimization failed to converge. Check mle_retvals\n",
      "  \"Check mle_retvals\", ConvergenceWarning)\n",
      "c:\\python27\\lib\\site-packages\\statsmodels\\base\\model.py:496: ConvergenceWarning: Maximum Likelihood optimization failed to converge. Check mle_retvals\n",
      "  \"Check mle_retvals\", ConvergenceWarning)\n",
      "c:\\python27\\lib\\site-packages\\statsmodels\\base\\model.py:496: ConvergenceWarning: Maximum Likelihood optimization failed to converge. Check mle_retvals\n",
      "  \"Check mle_retvals\", ConvergenceWarning)\n",
      "c:\\python27\\lib\\site-packages\\statsmodels\\base\\model.py:496: ConvergenceWarning: Maximum Likelihood optimization failed to converge. Check mle_retvals\n",
      "  \"Check mle_retvals\", ConvergenceWarning)\n",
      "c:\\python27\\lib\\site-packages\\statsmodels\\base\\model.py:496: ConvergenceWarning: Maximum Likelihood optimization failed to converge. Check mle_retvals\n",
      "  \"Check mle_retvals\", ConvergenceWarning)\n"
     ]
    },
    {
     "ename": "ValueError",
     "evalue": "Insufficient degrees of freedom to estimate",
     "output_type": "error",
     "traceback": [
      "\u001b[0;31m---------------------------------------------------------------------------\u001b[0m",
      "\u001b[0;31mValueError\u001b[0m                                Traceback (most recent call last)",
      "\u001b[0;32m<ipython-input-2-e3557e99bb9a>\u001b[0m in \u001b[0;36m<module>\u001b[0;34m()\u001b[0m\n\u001b[1;32m     15\u001b[0m \u001b[1;33m\u001b[0m\u001b[0m\n\u001b[1;32m     16\u001b[0m             \u001b[1;31m#  这里使用模型参数自动识别\u001b[0m\u001b[1;33m\u001b[0m\u001b[1;33m\u001b[0m\u001b[0m\n\u001b[0;32m---> 17\u001b[0;31m             \u001b[0minit_bic\u001b[0m\u001b[1;33m,\u001b[0m \u001b[0minit_p\u001b[0m\u001b[1;33m,\u001b[0m \u001b[0minit_q\u001b[0m\u001b[1;33m,\u001b[0m \u001b[0minit_properModel\u001b[0m \u001b[1;33m=\u001b[0m \u001b[0mproper_model\u001b[0m\u001b[1;33m(\u001b[0m\u001b[0mts_log_diff\u001b[0m\u001b[1;33m,\u001b[0m\u001b[1;36m10\u001b[0m\u001b[1;33m)\u001b[0m\u001b[1;33m\u001b[0m\u001b[0m\n\u001b[0m\u001b[1;32m     18\u001b[0m             \u001b[1;32mprint\u001b[0m \u001b[1;34m'shop_id'\u001b[0m\u001b[1;33m,\u001b[0m\u001b[0mshop_id\u001b[0m\u001b[1;33m,\u001b[0m\u001b[1;34m'bic:'\u001b[0m\u001b[1;33m,\u001b[0m \u001b[0minit_bic\u001b[0m\u001b[1;33m,\u001b[0m \u001b[1;34m'p:'\u001b[0m\u001b[1;33m,\u001b[0m \u001b[0minit_p\u001b[0m\u001b[1;33m,\u001b[0m \u001b[1;34m'q:'\u001b[0m\u001b[1;33m,\u001b[0m\u001b[0minit_q\u001b[0m\u001b[1;33m\u001b[0m\u001b[0m\n\u001b[1;32m     19\u001b[0m \u001b[1;33m\u001b[0m\u001b[0m\n",
      "\u001b[0;32m<ipython-input-1-c4ea3a63c5a6>\u001b[0m in \u001b[0;36mproper_model\u001b[0;34m(data_ts, maxLag)\u001b[0m\n\u001b[1;32m     14\u001b[0m     \u001b[1;32mfor\u001b[0m \u001b[0mp\u001b[0m \u001b[1;32min\u001b[0m \u001b[0mnp\u001b[0m\u001b[1;33m.\u001b[0m\u001b[0marange\u001b[0m\u001b[1;33m(\u001b[0m\u001b[0mmaxLag\u001b[0m\u001b[1;33m)\u001b[0m\u001b[1;33m:\u001b[0m\u001b[1;33m\u001b[0m\u001b[0m\n\u001b[1;32m     15\u001b[0m         \u001b[1;32mfor\u001b[0m \u001b[0mq\u001b[0m \u001b[1;32min\u001b[0m \u001b[0mnp\u001b[0m\u001b[1;33m.\u001b[0m\u001b[0marange\u001b[0m\u001b[1;33m(\u001b[0m\u001b[0mmaxLag\u001b[0m\u001b[1;33m)\u001b[0m\u001b[1;33m:\u001b[0m\u001b[1;33m\u001b[0m\u001b[0m\n\u001b[0;32m---> 16\u001b[0;31m             \u001b[0mmodel\u001b[0m \u001b[1;33m=\u001b[0m \u001b[0msm\u001b[0m\u001b[1;33m.\u001b[0m\u001b[0mtsa\u001b[0m\u001b[1;33m.\u001b[0m\u001b[0mARMA\u001b[0m\u001b[1;33m(\u001b[0m\u001b[0mdata_ts\u001b[0m\u001b[1;33m,\u001b[0m \u001b[0morder\u001b[0m\u001b[1;33m=\u001b[0m\u001b[1;33m(\u001b[0m\u001b[0mp\u001b[0m\u001b[1;33m,\u001b[0m \u001b[0mq\u001b[0m\u001b[1;33m)\u001b[0m\u001b[1;33m,\u001b[0m\u001b[0mfreq\u001b[0m\u001b[1;33m=\u001b[0m\u001b[1;34m'D'\u001b[0m\u001b[1;33m)\u001b[0m\u001b[1;33m\u001b[0m\u001b[0m\n\u001b[0m\u001b[1;32m     17\u001b[0m             \u001b[1;32mtry\u001b[0m\u001b[1;33m:\u001b[0m\u001b[1;33m\u001b[0m\u001b[0m\n\u001b[1;32m     18\u001b[0m                 \u001b[0mresults_ARMA\u001b[0m \u001b[1;33m=\u001b[0m \u001b[0mmodel\u001b[0m\u001b[1;33m.\u001b[0m\u001b[0mfit\u001b[0m\u001b[1;33m(\u001b[0m\u001b[0mdisp\u001b[0m\u001b[1;33m=\u001b[0m\u001b[1;33m-\u001b[0m\u001b[1;36m1\u001b[0m\u001b[1;33m,\u001b[0m \u001b[0mmethod\u001b[0m\u001b[1;33m=\u001b[0m\u001b[1;34m'css'\u001b[0m\u001b[1;33m)\u001b[0m\u001b[1;33m\u001b[0m\u001b[0m\n",
      "\u001b[0;32mc:\\python27\\lib\\site-packages\\statsmodels\\tsa\\arima_model.pyc\u001b[0m in \u001b[0;36m__init__\u001b[0;34m(self, endog, order, exog, dates, freq, missing)\u001b[0m\n\u001b[1;32m    452\u001b[0m         \u001b[0msuper\u001b[0m\u001b[1;33m(\u001b[0m\u001b[0mARMA\u001b[0m\u001b[1;33m,\u001b[0m \u001b[0mself\u001b[0m\u001b[1;33m)\u001b[0m\u001b[1;33m.\u001b[0m\u001b[0m__init__\u001b[0m\u001b[1;33m(\u001b[0m\u001b[0mendog\u001b[0m\u001b[1;33m,\u001b[0m \u001b[0mexog\u001b[0m\u001b[1;33m,\u001b[0m \u001b[0mdates\u001b[0m\u001b[1;33m,\u001b[0m \u001b[0mfreq\u001b[0m\u001b[1;33m,\u001b[0m \u001b[0mmissing\u001b[0m\u001b[1;33m=\u001b[0m\u001b[0mmissing\u001b[0m\u001b[1;33m)\u001b[0m\u001b[1;33m\u001b[0m\u001b[0m\n\u001b[1;32m    453\u001b[0m         \u001b[0mexog\u001b[0m \u001b[1;33m=\u001b[0m \u001b[0mself\u001b[0m\u001b[1;33m.\u001b[0m\u001b[0mdata\u001b[0m\u001b[1;33m.\u001b[0m\u001b[0mexog\u001b[0m  \u001b[1;31m# get it after it's gone through processing\u001b[0m\u001b[1;33m\u001b[0m\u001b[0m\n\u001b[0;32m--> 454\u001b[0;31m         \u001b[0m_check_estimable\u001b[0m\u001b[1;33m(\u001b[0m\u001b[0mlen\u001b[0m\u001b[1;33m(\u001b[0m\u001b[0mself\u001b[0m\u001b[1;33m.\u001b[0m\u001b[0mendog\u001b[0m\u001b[1;33m)\u001b[0m\u001b[1;33m,\u001b[0m \u001b[0msum\u001b[0m\u001b[1;33m(\u001b[0m\u001b[0morder\u001b[0m\u001b[1;33m)\u001b[0m\u001b[1;33m)\u001b[0m\u001b[1;33m\u001b[0m\u001b[0m\n\u001b[0m\u001b[1;32m    455\u001b[0m         \u001b[0mself\u001b[0m\u001b[1;33m.\u001b[0m\u001b[0mk_ar\u001b[0m \u001b[1;33m=\u001b[0m \u001b[0mk_ar\u001b[0m \u001b[1;33m=\u001b[0m \u001b[0morder\u001b[0m\u001b[1;33m[\u001b[0m\u001b[1;36m0\u001b[0m\u001b[1;33m]\u001b[0m\u001b[1;33m\u001b[0m\u001b[0m\n\u001b[1;32m    456\u001b[0m         \u001b[0mself\u001b[0m\u001b[1;33m.\u001b[0m\u001b[0mk_ma\u001b[0m \u001b[1;33m=\u001b[0m \u001b[0mk_ma\u001b[0m \u001b[1;33m=\u001b[0m \u001b[0morder\u001b[0m\u001b[1;33m[\u001b[0m\u001b[1;36m1\u001b[0m\u001b[1;33m]\u001b[0m\u001b[1;33m\u001b[0m\u001b[0m\n",
      "\u001b[0;32mc:\\python27\\lib\\site-packages\\statsmodels\\tsa\\arima_model.pyc\u001b[0m in \u001b[0;36m_check_estimable\u001b[0;34m(nobs, n_params)\u001b[0m\n\u001b[1;32m    438\u001b[0m \u001b[1;32mdef\u001b[0m \u001b[0m_check_estimable\u001b[0m\u001b[1;33m(\u001b[0m\u001b[0mnobs\u001b[0m\u001b[1;33m,\u001b[0m \u001b[0mn_params\u001b[0m\u001b[1;33m)\u001b[0m\u001b[1;33m:\u001b[0m\u001b[1;33m\u001b[0m\u001b[0m\n\u001b[1;32m    439\u001b[0m     \u001b[1;32mif\u001b[0m \u001b[0mnobs\u001b[0m \u001b[1;33m<=\u001b[0m \u001b[0mn_params\u001b[0m\u001b[1;33m:\u001b[0m\u001b[1;33m\u001b[0m\u001b[0m\n\u001b[0;32m--> 440\u001b[0;31m         \u001b[1;32mraise\u001b[0m \u001b[0mValueError\u001b[0m\u001b[1;33m(\u001b[0m\u001b[1;34m\"Insufficient degrees of freedom to estimate\"\u001b[0m\u001b[1;33m)\u001b[0m\u001b[1;33m\u001b[0m\u001b[0m\n\u001b[0m\u001b[1;32m    441\u001b[0m \u001b[1;33m\u001b[0m\u001b[0m\n\u001b[1;32m    442\u001b[0m \u001b[1;33m\u001b[0m\u001b[0m\n",
      "\u001b[0;31mValueError\u001b[0m: Insufficient degrees of freedom to estimate"
     ]
    }
   ],
   "source": [
    "p_result = []\n",
    "errorshop=[]\n",
    "for shop_id,eachShop in last2week_data.groupby(['shop_id']):        \n",
    "#         try:\n",
    "            eachShop.index = eachShop['data']\n",
    "            eachShop = eachShop.drop(['data','shop_id'],axis=1)\n",
    "\n",
    "            eachShop_series = pd.Series(index=eachShop.index,data=eachShop.Num)\n",
    "\n",
    "            # 数据预处理 不一定是取log,可能差分呢,也可能小波,也有可能卡尔曼傅里叶,也可以把序列进行分解然后进行拟合\n",
    "            ts_log = np.log(eachShop_series)\n",
    "            # 这里做一阶差分            \n",
    "            ts_log_diff =ts_log - ts_log.shift()\n",
    "            ts_log_diff.dropna(inplace=True)\n",
    "\n",
    "            #  这里使用模型参数自动识别\n",
    "            init_bic, init_p, init_q, init_properModel = proper_model(ts_log_diff,10)\n",
    "            print 'shop_id',shop_id,'bic:', init_bic, 'p:', init_p, 'q:',init_q\n",
    "            \n",
    "            # 预测结果还原\n",
    "            predict_ts = init_properModel.predict(start=\"2016-10-31\",end=\"2016-11-14\")\n",
    "            predict_ts_cumsum = predict_ts.cumsum()\n",
    "            \n",
    "            # 把最后一个值作为基本值。或者拿14天做一个均值。作为基本值\n",
    "            base_value = sum(ts_log.ix[len(ts_log)-14:len(ts_log)-1])/14\n",
    "#             base_value = ts_log.ix[len(ts_log)-32]\n",
    "            print \"base value is :\",base_value\n",
    "            base_value_set = []\n",
    "            for x in range(1,len(predict_ts)+1):\n",
    "                base_value_set.append(base_value)\n",
    "                \n",
    "            predictions_ARIMA_log = pd.Series(base_value_set, index=predict_ts.index)\n",
    "            predictions_ARIMA_log.rename(columns={0:'Num'},inplace=True)\n",
    "            predictions_ARIMA_log = predictions_ARIMA_log.add(predict_ts_cumsum)\n",
    "            \n",
    "            ts_log = ts_log.ix[predictions_ARIMA_log.index]\n",
    "            rmse = np.sqrt(np.sum((predictions_ARIMA_log-ts_log)**2)/ts_log.size)\n",
    "            print rmse \n",
    "            \n",
    "            log_recover = np.exp(predictions_ARIMA_log)\n",
    "            log_recover.dropna(inplace=True)\n",
    "            result = pd.DataFrame(log_recover)  \n",
    "            result = result.rename(columns={0:'Num'})\n",
    "            each_line = []\n",
    "            each_line.append(shop_id)\n",
    "            for x in result.Num:\n",
    "                each_line.append(x) \n",
    "            p_result.append(each_line)\n",
    "            \n",
    "#         except ValueError, e:\n",
    "#             errorshop.append(shop_id)\n",
    "#             print '------------------------------ValueError:note down error shop id--------------------------'\n",
    "#             continue"
   ]
  },
  {
   "cell_type": "code",
   "execution_count": null,
   "metadata": {
    "collapsed": true,
    "deletable": true,
    "editable": true
   },
   "outputs": [],
   "source": [
    "p_result = abs(pd.DataFrame(p_result).astype(int)) \n",
    "p_result.to_csv('ARMA_D_l2w.csv',header=False,index=False,encoding='utf-8')"
   ]
  },
  {
   "cell_type": "code",
   "execution_count": null,
   "metadata": {
    "collapsed": true
   },
   "outputs": [],
   "source": []
  }
 ],
 "metadata": {
  "kernelspec": {
   "display_name": "Python 2",
   "language": "python",
   "name": "python2"
  }
 },
 "nbformat": 4,
 "nbformat_minor": 2
}
